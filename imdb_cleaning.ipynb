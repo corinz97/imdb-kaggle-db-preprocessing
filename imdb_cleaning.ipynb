{
  "cells": [
    {
      "cell_type": "code",
      "source": [
        "!pip install kaggle\n"
      ],
      "metadata": {
        "colab": {
          "base_uri": "https://localhost:8080/"
        },
        "id": "EBdQAeAR-MKx",
        "outputId": "74e41291-edcc-4d1e-d3b3-38fc4a76172b"
      },
      "execution_count": 1,
      "outputs": [
        {
          "output_type": "stream",
          "name": "stdout",
          "text": [
            "Requirement already satisfied: kaggle in /usr/local/lib/python3.7/dist-packages (1.5.12)\n",
            "Requirement already satisfied: requests in /usr/local/lib/python3.7/dist-packages (from kaggle) (2.23.0)\n",
            "Requirement already satisfied: six>=1.10 in /usr/local/lib/python3.7/dist-packages (from kaggle) (1.15.0)\n",
            "Requirement already satisfied: python-dateutil in /usr/local/lib/python3.7/dist-packages (from kaggle) (2.8.2)\n",
            "Requirement already satisfied: urllib3 in /usr/local/lib/python3.7/dist-packages (from kaggle) (1.24.3)\n",
            "Requirement already satisfied: python-slugify in /usr/local/lib/python3.7/dist-packages (from kaggle) (6.1.1)\n",
            "Requirement already satisfied: tqdm in /usr/local/lib/python3.7/dist-packages (from kaggle) (4.63.0)\n",
            "Requirement already satisfied: certifi in /usr/local/lib/python3.7/dist-packages (from kaggle) (2021.10.8)\n",
            "Requirement already satisfied: text-unidecode>=1.3 in /usr/local/lib/python3.7/dist-packages (from python-slugify->kaggle) (1.3)\n",
            "Requirement already satisfied: idna<3,>=2.5 in /usr/local/lib/python3.7/dist-packages (from requests->kaggle) (2.10)\n",
            "Requirement already satisfied: chardet<4,>=3.0.2 in /usr/local/lib/python3.7/dist-packages (from requests->kaggle) (3.0.4)\n"
          ]
        }
      ]
    },
    {
      "cell_type": "code",
      "source": [
        "from google.colab import files\n",
        "\n",
        "uploaded = files.upload()\n",
        "\n",
        "for fn in uploaded.keys():\n",
        "  print('User uploaded file \"{name}\" with length {length} bytes'.format(\n",
        "      name=fn, length=len(uploaded[fn])))\n",
        "  \n",
        "# Then move kaggle.json into the folder where the API expects to find it.\n",
        "!mkdir -p ~/.kaggle/ && mv kaggle.json ~/.kaggle/ && chmod 600 ~/.kaggle/kaggle.json"
      ],
      "metadata": {
        "colab": {
          "resources": {
            "http://localhost:8080/nbextensions/google.colab/files.js": {
              "data": "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",
              "ok": true,
              "headers": [
                [
                  "content-type",
                  "application/javascript"
                ]
              ],
              "status": 200,
              "status_text": ""
            }
          },
          "base_uri": "https://localhost:8080/",
          "height": 90
        },
        "id": "DHVctjVA_KUm",
        "outputId": "de2d4fab-ec25-4936-98a7-bf74ddde1329"
      },
      "execution_count": 2,
      "outputs": [
        {
          "output_type": "display_data",
          "data": {
            "text/plain": [
              "<IPython.core.display.HTML object>"
            ],
            "text/html": [
              "\n",
              "     <input type=\"file\" id=\"files-c8ec3de4-fbd2-49b4-9780-d2cb2ac890a2\" name=\"files[]\" multiple disabled\n",
              "        style=\"border:none\" />\n",
              "     <output id=\"result-c8ec3de4-fbd2-49b4-9780-d2cb2ac890a2\">\n",
              "      Upload widget is only available when the cell has been executed in the\n",
              "      current browser session. Please rerun this cell to enable.\n",
              "      </output>\n",
              "      <script src=\"/nbextensions/google.colab/files.js\"></script> "
            ]
          },
          "metadata": {}
        },
        {
          "output_type": "stream",
          "name": "stdout",
          "text": [
            "Saving kaggle.json to kaggle.json\n",
            "User uploaded file \"kaggle.json\" with length 68 bytes\n"
          ]
        }
      ]
    },
    {
      "cell_type": "code",
      "source": [
        "\n",
        "!kaggle datasets download -d ebiswas/imdb-review-dataset"
      ],
      "metadata": {
        "id": "sSRK1llh-NQg",
        "colab": {
          "base_uri": "https://localhost:8080/"
        },
        "outputId": "2eaaadc8-ad3b-498f-ce13-d08416cdc7f8"
      },
      "execution_count": 3,
      "outputs": [
        {
          "output_type": "stream",
          "name": "stdout",
          "text": [
            "Downloading imdb-review-dataset.zip to /content\n",
            " 99% 2.68G/2.69G [00:18<00:00, 111MB/s]\n",
            "100% 2.69G/2.69G [00:18<00:00, 153MB/s]\n"
          ]
        }
      ]
    },
    {
      "cell_type": "code",
      "source": [
        "from google.colab import drive\n",
        "drive.mount('/content/drive')"
      ],
      "metadata": {
        "id": "Qbjdy8MY_T4J",
        "colab": {
          "base_uri": "https://localhost:8080/"
        },
        "outputId": "047e2368-b370-4ee8-af2e-f77c5a9a9871"
      },
      "execution_count": 4,
      "outputs": [
        {
          "output_type": "stream",
          "name": "stdout",
          "text": [
            "Mounted at /content/drive\n"
          ]
        }
      ]
    },
    {
      "cell_type": "code",
      "source": [
        "!unzip imdb-review-dataset.zip"
      ],
      "metadata": {
        "id": "aJxErNdU_fS2",
        "colab": {
          "base_uri": "https://localhost:8080/"
        },
        "outputId": "d227b780-c383-4365-9a40-68b04793a62c"
      },
      "execution_count": 5,
      "outputs": [
        {
          "output_type": "stream",
          "name": "stdout",
          "text": [
            "Archive:  imdb-review-dataset.zip\n",
            "  inflating: part-01.json            \n",
            "  inflating: part-02.json            \n",
            "  inflating: part-03.json            \n",
            "  inflating: part-04.json            \n",
            "  inflating: part-05.json            \n",
            "  inflating: part-06.json            \n",
            "  inflating: sample.json             \n"
          ]
        }
      ]
    },
    {
      "cell_type": "code",
      "source": [
        "!git clone https://github.com/vinay20045/json-to-csv "
      ],
      "metadata": {
        "id": "RyN191PX__Xs",
        "colab": {
          "base_uri": "https://localhost:8080/"
        },
        "outputId": "9e13cd6e-0a00-4437-f4e8-7a50124ce89b"
      },
      "execution_count": 6,
      "outputs": [
        {
          "output_type": "stream",
          "name": "stdout",
          "text": [
            "Cloning into 'json-to-csv'...\n",
            "remote: Enumerating objects: 67, done.\u001b[K\n",
            "remote: Counting objects: 100% (11/11), done.\u001b[K\n",
            "remote: Compressing objects: 100% (9/9), done.\u001b[K\n",
            "remote: Total 67 (delta 2), reused 0 (delta 0), pack-reused 56\u001b[K\n",
            "Unpacking objects: 100% (67/67), done.\n"
          ]
        }
      ]
    },
    {
      "cell_type": "code",
      "source": [
        "import pandas as pd\n",
        "import numpy as np\n",
        "import glob, os"
      ],
      "metadata": {
        "id": "OsUxYEhTC4ba"
      },
      "execution_count": 7,
      "outputs": []
    },
    {
      "cell_type": "code",
      "source": [
        "def clean_helpful_values(df):\n",
        "  df = df.copy()\n",
        "  a = df[df['helpful'].str[0].str.contains('[,\"]')]\n",
        "  print(\"Wrong elements with errors to remove in column 0:\",len(a))\n",
        "  b = df[df['helpful'].str[1].str.contains('[,\"]')]\n",
        "  print(\"Wrong elements with errors to remove in column 1:\",len(b))\n",
        "\n",
        "  a = df['helpful'].str[0].str.replace('[,\"]','')\n",
        "  b = df['helpful'].str[1].str.replace('[,\"]','')\n",
        "  df['helpful'] = pd.Series(list(np.column_stack((a.to_numpy(), b.to_numpy()))))\n",
        "\n",
        "\n",
        "  a = df[df['helpful'].str[0].str.contains('[,\"]')]\n",
        "  print(\"Wrong elements with errors to remove in column 0:\",len(a))\n",
        "  b = df[df['helpful'].str[1].str.contains('[,\"]')]\n",
        "  print(\"Wrong elements with errors to remove in column 1:\",len(b))\n",
        "\n",
        "  return df\n",
        "\n",
        "def remove_useless_columns(df):\n",
        "  return df.copy().drop(columns=['reviewer','rating','review_summary'])\n",
        "\n",
        "\n",
        "def change_date_format(df):\n",
        "  df = df.copy()\n",
        "  df['review_date'] = pd.to_datetime(df[\"review_date\"]).dt.strftime('%Y-%m-%d')\n",
        "  return df"
      ],
      "metadata": {
        "id": "GgqBbwVv2tGA"
      },
      "execution_count": 8,
      "outputs": []
    },
    {
      "cell_type": "code",
      "source": [
        "\n",
        "os.chdir(\"/content\")\n",
        "names = glob.glob(\"*.json\")\n",
        "\n",
        "!rm -r -f /content/cleaned_files/\n",
        "\n",
        "\n",
        "!mkdir /content/cleaned_files\n",
        "!mkdir /content/cleaned_files/cleaned_json\n",
        "!mkdir /content/cleaned_files/cleaned_csv\n",
        "\n",
        "\n",
        "\n"
      ],
      "metadata": {
        "id": "GHBZrWhm1CEv"
      },
      "execution_count": 9,
      "outputs": []
    },
    {
      "cell_type": "code",
      "source": [
        "for name in names:\n",
        "  df = pd.read_json(\"/content/\"+name)\n",
        "  df = remove_useless_columns(df)\n",
        "  df = change_date_format(df)\n",
        "  df = clean_helpful_values(df)\n",
        "\n",
        "  jsonPath ='/content/cleaned_files/cleaned_json/'+name\n",
        "  df.to_json(jsonPath,orient='records')\n",
        "\n",
        "  csvPath = '/content/cleaned_files/cleaned_csv/'+name.replace('.json','')+'.csv'\n",
        "  !python /content/json-to-csv/json_to_csv.py \"\" $jsonPath $csvPath"
      ],
      "metadata": {
        "colab": {
          "base_uri": "https://localhost:8080/"
        },
        "id": "02RrZ0c02gNr",
        "outputId": "4ab37e7f-bf6a-4e20-f670-7ab7a06d8eee"
      },
      "execution_count": 10,
      "outputs": [
        {
          "output_type": "stream",
          "name": "stdout",
          "text": [
            "Wrong elements with errors to remove in column 0: 13\n",
            "Wrong elements with errors to remove in column 1: 34\n"
          ]
        },
        {
          "output_type": "stream",
          "name": "stderr",
          "text": [
            "/usr/local/lib/python3.7/dist-packages/ipykernel_launcher.py:8: FutureWarning: The default value of regex will change from True to False in a future version.\n",
            "  \n",
            "/usr/local/lib/python3.7/dist-packages/ipykernel_launcher.py:9: FutureWarning: The default value of regex will change from True to False in a future version.\n",
            "  if __name__ == '__main__':\n"
          ]
        },
        {
          "output_type": "stream",
          "name": "stdout",
          "text": [
            "Wrong elements with errors to remove in column 0: 0\n",
            "Wrong elements with errors to remove in column 1: 0\n",
            "Just completed writing csv file with 7 columns\n",
            "Wrong elements with errors to remove in column 0: 142\n",
            "Wrong elements with errors to remove in column 1: 400\n",
            "Wrong elements with errors to remove in column 0: 0\n",
            "Wrong elements with errors to remove in column 1: 0\n",
            "tcmalloc: large alloc 1262272512 bytes == 0x55974bfa6000 @  0x7f531da791e7 0x55974a52e338 0x55974a4f8ad7 0x55974a677575 0x55974a6118b8 0x55974a4fc3a2 0x55974a5dac6e 0x55974a611832 0x55974a4fc3a2 0x55974a4ff5f6 0x55974a67ac03 0x55974a4fbff9 0x55974a5edd4d 0x55974a56fec8 0x55974a56aa2e 0x55974a56a723 0x55974a634812 0x55974a634b8d 0x55974a634a36 0x55974a60c183 0x55974a60be2c 0x7f531c863c87 0x55974a60bd0a\n",
            "tcmalloc: large alloc 1262272512 bytes == 0x559797372000 @  0x7f531da791e7 0x55974a52e338 0x55974a54366c 0x55974a5d0e13 0x55974a4fbff9 0x55974a4fbef0 0x55974a570123 0x55974a4fd7aa 0x55974a56bb4f 0x55974a56aa2e 0x55974a4fdf21 0x55974a4fd3d0 0x55974a4ff358 0x55974a5dc441 0x55974a67ac31 0x55974a4fbff9 0x55974a5edd4d 0x55974a56fec8 0x55974a56aa2e 0x55974a56a723 0x55974a634812 0x55974a634b8d 0x55974a634a36 0x55974a60c183 0x55974a60be2c 0x7f531c863c87 0x55974a60bd0a\n",
            "Just completed writing csv file with 7 columns\n",
            "Wrong elements with errors to remove in column 0: 10\n",
            "Wrong elements with errors to remove in column 1: 27\n",
            "Wrong elements with errors to remove in column 0: 0\n",
            "Wrong elements with errors to remove in column 1: 0\n",
            "Just completed writing csv file with 7 columns\n",
            "Wrong elements with errors to remove in column 0: 114\n",
            "Wrong elements with errors to remove in column 1: 305\n",
            "Wrong elements with errors to remove in column 0: 0\n",
            "Wrong elements with errors to remove in column 1: 0\n",
            "tcmalloc: large alloc 1168007168 bytes == 0x55577302a000 @  0x7f52ac9301e7 0x55577158d338 0x555771557ad7 0x5557716d6575 0x5557716708b8 0x55577155b3a2 0x555771639c6e 0x555771670832 0x55577155b3a2 0x55577155e5f6 0x5557716d9c03 0x55577155aff9 0x55577164cd4d 0x5557715ceec8 0x5557715c9a2e 0x5557715c9723 0x555771693812 0x555771693b8d 0x555771693a36 0x55577166b183 0x55577166ae2c 0x7f52ab71ac87 0x55577166ad0a\n",
            "Just completed writing csv file with 7 columns\n",
            "Wrong elements with errors to remove in column 0: 74\n",
            "Wrong elements with errors to remove in column 1: 317\n",
            "Wrong elements with errors to remove in column 0: 0\n",
            "Wrong elements with errors to remove in column 1: 0\n",
            "tcmalloc: large alloc 1656258560 bytes == 0x565158a64000 @  0x7fa854b381e7 0x565156d22338 0x565156cecad7 0x565156e6b575 0x565156e058b8 0x565156cf03a2 0x565156dcec6e 0x565156e05832 0x565156cf03a2 0x565156cf35f6 0x565156e6ec03 0x565156cefff9 0x565156de1d4d 0x565156d63ec8 0x565156d5ea2e 0x565156d5e723 0x565156e28812 0x565156e28b8d 0x565156e28a36 0x565156e00183 0x565156dffe2c 0x7fa853922c87 0x565156dffd0a\n",
            "tcmalloc: large alloc 1656258560 bytes == 0x5651bb5ec000 @  0x7fa854b381e7 0x565156d22338 0x565156d3766c 0x565156dc4e13 0x565156cefff9 0x565156cefef0 0x565156d64123 0x565156cf17aa 0x565156d5fb4f 0x565156d5ea2e 0x565156cf1f21 0x565156cf13d0 0x565156cf3358 0x565156dd0441 0x565156e6ec31 0x565156cefff9 0x565156de1d4d 0x565156d63ec8 0x565156d5ea2e 0x565156d5e723 0x565156e28812 0x565156e28b8d 0x565156e28a36 0x565156e00183 0x565156dffe2c 0x7fa853922c87 0x565156dffd0a\n",
            "Just completed writing csv file with 7 columns\n",
            "Wrong elements with errors to remove in column 0: 185\n",
            "Wrong elements with errors to remove in column 1: 418\n",
            "Wrong elements with errors to remove in column 0: 0\n",
            "Wrong elements with errors to remove in column 1: 0\n",
            "tcmalloc: large alloc 1319682048 bytes == 0x565318d42000 @  0x7f7c997511e7 0x565317073338 0x56531703dad7 0x5653171bc575 0x5653171568b8 0x5653170413a2 0x56531711fc6e 0x565317156832 0x5653170413a2 0x5653170445f6 0x5653171bfc03 0x565317040ff9 0x565317132d4d 0x5653170b4ec8 0x5653170afa2e 0x5653170af723 0x565317179812 0x565317179b8d 0x565317179a36 0x565317151183 0x565317150e2c 0x7f7c9853bc87 0x565317150d0a\n",
            "tcmalloc: large alloc 1319682048 bytes == 0x5653677ce000 @  0x7f7c997511e7 0x565317073338 0x56531708866c 0x565317115e13 0x565317040ff9 0x565317040ef0 0x5653170b5123 0x5653170427aa 0x5653170b0b4f 0x5653170afa2e 0x565317042f21 0x5653170423d0 0x565317044358 0x565317121441 0x5653171bfc31 0x565317040ff9 0x565317132d4d 0x5653170b4ec8 0x5653170afa2e 0x5653170af723 0x565317179812 0x565317179b8d 0x565317179a36 0x565317151183 0x565317150e2c 0x7f7c9853bc87 0x565317150d0a\n",
            "Just completed writing csv file with 7 columns\n",
            "Wrong elements with errors to remove in column 0: 100\n",
            "Wrong elements with errors to remove in column 1: 244\n",
            "Wrong elements with errors to remove in column 0: 0\n",
            "Wrong elements with errors to remove in column 1: 0\n",
            "Just completed writing csv file with 7 columns\n"
          ]
        }
      ]
    },
    {
      "cell_type": "code",
      "source": [
        "!zip -r '/content/cleaned_files/cleaned_csv/cleaned_csv.zip' '/content/cleaned_files/cleaned_csv/'"
      ],
      "metadata": {
        "colab": {
          "base_uri": "https://localhost:8080/"
        },
        "id": "YqOrZBoO6DA4",
        "outputId": "a18f3fcf-2bdd-4c1f-dcc7-0443f27c7f03"
      },
      "execution_count": 11,
      "outputs": [
        {
          "output_type": "stream",
          "name": "stdout",
          "text": [
            "  adding: content/cleaned_files/cleaned_csv/ (stored 0%)\n",
            "  adding: content/cleaned_files/cleaned_csv/cleaned_part-02.csv (deflated 60%)\n",
            "  adding: content/cleaned_files/cleaned_csv/cleaned_part-04.csv (deflated 61%)\n",
            "  adding: content/cleaned_files/cleaned_csv/cleaned_part-01.csv (deflated 61%)\n",
            "  adding: content/cleaned_files/cleaned_csv/cleaned_sample.csv (deflated 60%)\n",
            "  adding: content/cleaned_files/cleaned_csv/cleaned_part-05.csv (deflated 60%)\n",
            "  adding: content/cleaned_files/cleaned_csv/cleaned_part-03.csv (deflated 61%)\n",
            "  adding: content/cleaned_files/cleaned_csv/cleaned_part-06.csv (deflated 63%)\n"
          ]
        }
      ]
    },
    {
      "cell_type": "code",
      "source": [
        "ls -l cleaned_files/cleaned_csv/ --block-size=MB"
      ],
      "metadata": {
        "colab": {
          "base_uri": "https://localhost:8080/"
        },
        "id": "f7AImXd7F0XA",
        "outputId": "21547869-006c-41df-d052-a6cc7b83e6e0"
      },
      "execution_count": 14,
      "outputs": [
        {
          "output_type": "stream",
          "name": "stdout",
          "text": [
            "total 9339MB\n",
            "-rw-r--r-- 1 root root 2639MB Apr 11 14:54 cleaned_csv.zip\n",
            "-rw-r--r-- 1 root root  905MB Apr 11 14:43 cleaned_part-01.csv\n",
            "-rw-r--r-- 1 root root 1090MB Apr 11 14:35 cleaned_part-02.csv\n",
            "-rw-r--r-- 1 root root 1241MB Apr 11 14:41 cleaned_part-03.csv\n",
            "-rw-r--r-- 1 root root 1183MB Apr 11 14:33 cleaned_part-04.csv\n",
            "-rw-r--r-- 1 root root 1577MB Apr 11 14:38 cleaned_part-05.csv\n",
            "-rw-r--r-- 1 root root  562MB Apr 11 14:31 cleaned_part-06.csv\n",
            "-rw-r--r-- 1 root root  146MB Apr 11 14:33 cleaned_sample.csv\n"
          ]
        }
      ]
    },
    {
      "cell_type": "code",
      "source": [
        "\n",
        "\n",
        "df = pd.read_csv('/content/cleaned_files/cleaned_csv/cleaned_part-03.csv')\n",
        "df\n"
      ],
      "metadata": {
        "colab": {
          "base_uri": "https://localhost:8080/",
          "height": 641
        },
        "id": "Qgt781oGvW2h",
        "outputId": "544f1d85-4b24-467d-a7aa-ec228b7e878e"
      },
      "execution_count": 18,
      "outputs": [
        {
          "output_type": "execute_result",
          "data": {
            "text/plain": [
              "         _helpful_0  _helpful_1                     _movie _review_date  \\\n",
              "0                 1           3  Dead Man on Campus (1998)   2001-12-13   \n",
              "1                 2           2  Dead Man on Campus (1998)   1999-01-22   \n",
              "2                 1           3  Dead Man on Campus (1998)   2002-01-09   \n",
              "3                 1           3  Dead Man on Campus (1998)   2002-05-01   \n",
              "4                 2           3  Dead Man on Campus (1998)   1999-01-31   \n",
              "...             ...         ...                        ...          ...   \n",
              "1014995           0           0         The Insider (1999)   1999-12-26   \n",
              "1014996           0           0         The Insider (1999)   2000-01-07   \n",
              "1014997           0           0         The Insider (1999)   2000-01-11   \n",
              "1014998           0           0         The Insider (1999)   1999-11-07   \n",
              "1014999           0           0         The Insider (1999)   2000-01-12   \n",
              "\n",
              "                                            _review_detail _review_id  \\\n",
              "0        I didn't even see this movie in the theatres, ...  rw0400504   \n",
              "1        It's definitely not worth the money it cost to...  rw0400505   \n",
              "2        First of all can I say AT LEAST GET THE PLOT O...  rw0400506   \n",
              "3        My friend was ALWAYS telling me about this mov...  rw0400508   \n",
              "4        The laughter never stops. This is because the ...  rw0400509   \n",
              "...                                                    ...        ...   \n",
              "1014995  This is an absolute magnificent movie, in fact...  rw0528641   \n",
              "1014996  There are times that The Insider will leave yo...  rw0528642   \n",
              "1014997  The sense of scandal and coverup is in the air...  rw0528643   \n",
              "1014998  \"The Insider\" is the latest from \"Vegas\" and \"...  rw0528644   \n",
              "1014999  After Heat, I was a little worried that Mann w...  rw0528645   \n",
              "\n",
              "         _spoiler_tag  \n",
              "0                   0  \n",
              "1                   0  \n",
              "2                   0  \n",
              "3                   0  \n",
              "4                   0  \n",
              "...               ...  \n",
              "1014995             0  \n",
              "1014996             0  \n",
              "1014997             0  \n",
              "1014998             0  \n",
              "1014999             0  \n",
              "\n",
              "[1015000 rows x 7 columns]"
            ],
            "text/html": [
              "\n",
              "  <div id=\"df-929c1314-d07c-46c7-970c-f3caa6136664\">\n",
              "    <div class=\"colab-df-container\">\n",
              "      <div>\n",
              "<style scoped>\n",
              "    .dataframe tbody tr th:only-of-type {\n",
              "        vertical-align: middle;\n",
              "    }\n",
              "\n",
              "    .dataframe tbody tr th {\n",
              "        vertical-align: top;\n",
              "    }\n",
              "\n",
              "    .dataframe thead th {\n",
              "        text-align: right;\n",
              "    }\n",
              "</style>\n",
              "<table border=\"1\" class=\"dataframe\">\n",
              "  <thead>\n",
              "    <tr style=\"text-align: right;\">\n",
              "      <th></th>\n",
              "      <th>_helpful_0</th>\n",
              "      <th>_helpful_1</th>\n",
              "      <th>_movie</th>\n",
              "      <th>_review_date</th>\n",
              "      <th>_review_detail</th>\n",
              "      <th>_review_id</th>\n",
              "      <th>_spoiler_tag</th>\n",
              "    </tr>\n",
              "  </thead>\n",
              "  <tbody>\n",
              "    <tr>\n",
              "      <th>0</th>\n",
              "      <td>1</td>\n",
              "      <td>3</td>\n",
              "      <td>Dead Man on Campus (1998)</td>\n",
              "      <td>2001-12-13</td>\n",
              "      <td>I didn't even see this movie in the theatres, ...</td>\n",
              "      <td>rw0400504</td>\n",
              "      <td>0</td>\n",
              "    </tr>\n",
              "    <tr>\n",
              "      <th>1</th>\n",
              "      <td>2</td>\n",
              "      <td>2</td>\n",
              "      <td>Dead Man on Campus (1998)</td>\n",
              "      <td>1999-01-22</td>\n",
              "      <td>It's definitely not worth the money it cost to...</td>\n",
              "      <td>rw0400505</td>\n",
              "      <td>0</td>\n",
              "    </tr>\n",
              "    <tr>\n",
              "      <th>2</th>\n",
              "      <td>1</td>\n",
              "      <td>3</td>\n",
              "      <td>Dead Man on Campus (1998)</td>\n",
              "      <td>2002-01-09</td>\n",
              "      <td>First of all can I say AT LEAST GET THE PLOT O...</td>\n",
              "      <td>rw0400506</td>\n",
              "      <td>0</td>\n",
              "    </tr>\n",
              "    <tr>\n",
              "      <th>3</th>\n",
              "      <td>1</td>\n",
              "      <td>3</td>\n",
              "      <td>Dead Man on Campus (1998)</td>\n",
              "      <td>2002-05-01</td>\n",
              "      <td>My friend was ALWAYS telling me about this mov...</td>\n",
              "      <td>rw0400508</td>\n",
              "      <td>0</td>\n",
              "    </tr>\n",
              "    <tr>\n",
              "      <th>4</th>\n",
              "      <td>2</td>\n",
              "      <td>3</td>\n",
              "      <td>Dead Man on Campus (1998)</td>\n",
              "      <td>1999-01-31</td>\n",
              "      <td>The laughter never stops. This is because the ...</td>\n",
              "      <td>rw0400509</td>\n",
              "      <td>0</td>\n",
              "    </tr>\n",
              "    <tr>\n",
              "      <th>...</th>\n",
              "      <td>...</td>\n",
              "      <td>...</td>\n",
              "      <td>...</td>\n",
              "      <td>...</td>\n",
              "      <td>...</td>\n",
              "      <td>...</td>\n",
              "      <td>...</td>\n",
              "    </tr>\n",
              "    <tr>\n",
              "      <th>1014995</th>\n",
              "      <td>0</td>\n",
              "      <td>0</td>\n",
              "      <td>The Insider (1999)</td>\n",
              "      <td>1999-12-26</td>\n",
              "      <td>This is an absolute magnificent movie, in fact...</td>\n",
              "      <td>rw0528641</td>\n",
              "      <td>0</td>\n",
              "    </tr>\n",
              "    <tr>\n",
              "      <th>1014996</th>\n",
              "      <td>0</td>\n",
              "      <td>0</td>\n",
              "      <td>The Insider (1999)</td>\n",
              "      <td>2000-01-07</td>\n",
              "      <td>There are times that The Insider will leave yo...</td>\n",
              "      <td>rw0528642</td>\n",
              "      <td>0</td>\n",
              "    </tr>\n",
              "    <tr>\n",
              "      <th>1014997</th>\n",
              "      <td>0</td>\n",
              "      <td>0</td>\n",
              "      <td>The Insider (1999)</td>\n",
              "      <td>2000-01-11</td>\n",
              "      <td>The sense of scandal and coverup is in the air...</td>\n",
              "      <td>rw0528643</td>\n",
              "      <td>0</td>\n",
              "    </tr>\n",
              "    <tr>\n",
              "      <th>1014998</th>\n",
              "      <td>0</td>\n",
              "      <td>0</td>\n",
              "      <td>The Insider (1999)</td>\n",
              "      <td>1999-11-07</td>\n",
              "      <td>\"The Insider\" is the latest from \"Vegas\" and \"...</td>\n",
              "      <td>rw0528644</td>\n",
              "      <td>0</td>\n",
              "    </tr>\n",
              "    <tr>\n",
              "      <th>1014999</th>\n",
              "      <td>0</td>\n",
              "      <td>0</td>\n",
              "      <td>The Insider (1999)</td>\n",
              "      <td>2000-01-12</td>\n",
              "      <td>After Heat, I was a little worried that Mann w...</td>\n",
              "      <td>rw0528645</td>\n",
              "      <td>0</td>\n",
              "    </tr>\n",
              "  </tbody>\n",
              "</table>\n",
              "<p>1015000 rows × 7 columns</p>\n",
              "</div>\n",
              "      <button class=\"colab-df-convert\" onclick=\"convertToInteractive('df-929c1314-d07c-46c7-970c-f3caa6136664')\"\n",
              "              title=\"Convert this dataframe to an interactive table.\"\n",
              "              style=\"display:none;\">\n",
              "        \n",
              "  <svg xmlns=\"http://www.w3.org/2000/svg\" height=\"24px\"viewBox=\"0 0 24 24\"\n",
              "       width=\"24px\">\n",
              "    <path d=\"M0 0h24v24H0V0z\" fill=\"none\"/>\n",
              "    <path d=\"M18.56 5.44l.94 2.06.94-2.06 2.06-.94-2.06-.94-.94-2.06-.94 2.06-2.06.94zm-11 1L8.5 8.5l.94-2.06 2.06-.94-2.06-.94L8.5 2.5l-.94 2.06-2.06.94zm10 10l.94 2.06.94-2.06 2.06-.94-2.06-.94-.94-2.06-.94 2.06-2.06.94z\"/><path d=\"M17.41 7.96l-1.37-1.37c-.4-.4-.92-.59-1.43-.59-.52 0-1.04.2-1.43.59L10.3 9.45l-7.72 7.72c-.78.78-.78 2.05 0 2.83L4 21.41c.39.39.9.59 1.41.59.51 0 1.02-.2 1.41-.59l7.78-7.78 2.81-2.81c.8-.78.8-2.07 0-2.86zM5.41 20L4 18.59l7.72-7.72 1.47 1.35L5.41 20z\"/>\n",
              "  </svg>\n",
              "      </button>\n",
              "      \n",
              "  <style>\n",
              "    .colab-df-container {\n",
              "      display:flex;\n",
              "      flex-wrap:wrap;\n",
              "      gap: 12px;\n",
              "    }\n",
              "\n",
              "    .colab-df-convert {\n",
              "      background-color: #E8F0FE;\n",
              "      border: none;\n",
              "      border-radius: 50%;\n",
              "      cursor: pointer;\n",
              "      display: none;\n",
              "      fill: #1967D2;\n",
              "      height: 32px;\n",
              "      padding: 0 0 0 0;\n",
              "      width: 32px;\n",
              "    }\n",
              "\n",
              "    .colab-df-convert:hover {\n",
              "      background-color: #E2EBFA;\n",
              "      box-shadow: 0px 1px 2px rgba(60, 64, 67, 0.3), 0px 1px 3px 1px rgba(60, 64, 67, 0.15);\n",
              "      fill: #174EA6;\n",
              "    }\n",
              "\n",
              "    [theme=dark] .colab-df-convert {\n",
              "      background-color: #3B4455;\n",
              "      fill: #D2E3FC;\n",
              "    }\n",
              "\n",
              "    [theme=dark] .colab-df-convert:hover {\n",
              "      background-color: #434B5C;\n",
              "      box-shadow: 0px 1px 3px 1px rgba(0, 0, 0, 0.15);\n",
              "      filter: drop-shadow(0px 1px 2px rgba(0, 0, 0, 0.3));\n",
              "      fill: #FFFFFF;\n",
              "    }\n",
              "  </style>\n",
              "\n",
              "      <script>\n",
              "        const buttonEl =\n",
              "          document.querySelector('#df-929c1314-d07c-46c7-970c-f3caa6136664 button.colab-df-convert');\n",
              "        buttonEl.style.display =\n",
              "          google.colab.kernel.accessAllowed ? 'block' : 'none';\n",
              "\n",
              "        async function convertToInteractive(key) {\n",
              "          const element = document.querySelector('#df-929c1314-d07c-46c7-970c-f3caa6136664');\n",
              "          const dataTable =\n",
              "            await google.colab.kernel.invokeFunction('convertToInteractive',\n",
              "                                                     [key], {});\n",
              "          if (!dataTable) return;\n",
              "\n",
              "          const docLinkHtml = 'Like what you see? Visit the ' +\n",
              "            '<a target=\"_blank\" href=https://colab.research.google.com/notebooks/data_table.ipynb>data table notebook</a>'\n",
              "            + ' to learn more about interactive tables.';\n",
              "          element.innerHTML = '';\n",
              "          dataTable['output_type'] = 'display_data';\n",
              "          await google.colab.output.renderOutput(dataTable, element);\n",
              "          const docLink = document.createElement('div');\n",
              "          docLink.innerHTML = docLinkHtml;\n",
              "          element.appendChild(docLink);\n",
              "        }\n",
              "      </script>\n",
              "    </div>\n",
              "  </div>\n",
              "  "
            ]
          },
          "metadata": {},
          "execution_count": 18
        }
      ]
    },
    {
      "cell_type": "code",
      "source": [
        "df = pd.read_json('/content/cleaned_files/cleaned_json/cleaned_part-03.json')\n",
        "df"
      ],
      "metadata": {
        "colab": {
          "base_uri": "https://localhost:8080/",
          "height": 641
        },
        "id": "p3vsHTorJXwS",
        "outputId": "065db8e8-7e18-4cbf-cf6f-2b604eb7e478"
      },
      "execution_count": 22,
      "outputs": [
        {
          "output_type": "execute_result",
          "data": {
            "text/plain": [
              "         review_id                      movie review_date  spoiler_tag  \\\n",
              "0        rw0400504  Dead Man on Campus (1998)  2001-12-13            0   \n",
              "1        rw0400505  Dead Man on Campus (1998)  1999-01-22            0   \n",
              "2        rw0400506  Dead Man on Campus (1998)  2002-01-09            0   \n",
              "3        rw0400508  Dead Man on Campus (1998)  2002-05-01            0   \n",
              "4        rw0400509  Dead Man on Campus (1998)  1999-01-31            0   \n",
              "...            ...                        ...         ...          ...   \n",
              "1014995  rw0528641         The Insider (1999)  1999-12-26            0   \n",
              "1014996  rw0528642         The Insider (1999)  2000-01-07            0   \n",
              "1014997  rw0528643         The Insider (1999)  2000-01-11            0   \n",
              "1014998  rw0528644         The Insider (1999)  1999-11-07            0   \n",
              "1014999  rw0528645         The Insider (1999)  2000-01-12            0   \n",
              "\n",
              "                                             review_detail helpful  \n",
              "0        I didn't even see this movie in the theatres, ...  [1, 3]  \n",
              "1        It's definitely not worth the money it cost to...  [2, 2]  \n",
              "2        First of all can I say AT LEAST GET THE PLOT O...  [1, 3]  \n",
              "3        My friend was ALWAYS telling me about this mov...  [1, 3]  \n",
              "4        The laughter never stops. This is because the ...  [2, 3]  \n",
              "...                                                    ...     ...  \n",
              "1014995  This is an absolute magnificent movie, in fact...  [0, 0]  \n",
              "1014996  There are times that The Insider will leave yo...  [0, 0]  \n",
              "1014997  The sense of scandal and coverup is in the air...  [0, 0]  \n",
              "1014998  \"The Insider\" is the latest from \"Vegas\" and \"...  [0, 0]  \n",
              "1014999  After Heat, I was a little worried that Mann w...  [0, 0]  \n",
              "\n",
              "[1015000 rows x 6 columns]"
            ],
            "text/html": [
              "\n",
              "  <div id=\"df-fdfafdd4-5f4e-46eb-97b0-014dd1a5e579\">\n",
              "    <div class=\"colab-df-container\">\n",
              "      <div>\n",
              "<style scoped>\n",
              "    .dataframe tbody tr th:only-of-type {\n",
              "        vertical-align: middle;\n",
              "    }\n",
              "\n",
              "    .dataframe tbody tr th {\n",
              "        vertical-align: top;\n",
              "    }\n",
              "\n",
              "    .dataframe thead th {\n",
              "        text-align: right;\n",
              "    }\n",
              "</style>\n",
              "<table border=\"1\" class=\"dataframe\">\n",
              "  <thead>\n",
              "    <tr style=\"text-align: right;\">\n",
              "      <th></th>\n",
              "      <th>review_id</th>\n",
              "      <th>movie</th>\n",
              "      <th>review_date</th>\n",
              "      <th>spoiler_tag</th>\n",
              "      <th>review_detail</th>\n",
              "      <th>helpful</th>\n",
              "    </tr>\n",
              "  </thead>\n",
              "  <tbody>\n",
              "    <tr>\n",
              "      <th>0</th>\n",
              "      <td>rw0400504</td>\n",
              "      <td>Dead Man on Campus (1998)</td>\n",
              "      <td>2001-12-13</td>\n",
              "      <td>0</td>\n",
              "      <td>I didn't even see this movie in the theatres, ...</td>\n",
              "      <td>[1, 3]</td>\n",
              "    </tr>\n",
              "    <tr>\n",
              "      <th>1</th>\n",
              "      <td>rw0400505</td>\n",
              "      <td>Dead Man on Campus (1998)</td>\n",
              "      <td>1999-01-22</td>\n",
              "      <td>0</td>\n",
              "      <td>It's definitely not worth the money it cost to...</td>\n",
              "      <td>[2, 2]</td>\n",
              "    </tr>\n",
              "    <tr>\n",
              "      <th>2</th>\n",
              "      <td>rw0400506</td>\n",
              "      <td>Dead Man on Campus (1998)</td>\n",
              "      <td>2002-01-09</td>\n",
              "      <td>0</td>\n",
              "      <td>First of all can I say AT LEAST GET THE PLOT O...</td>\n",
              "      <td>[1, 3]</td>\n",
              "    </tr>\n",
              "    <tr>\n",
              "      <th>3</th>\n",
              "      <td>rw0400508</td>\n",
              "      <td>Dead Man on Campus (1998)</td>\n",
              "      <td>2002-05-01</td>\n",
              "      <td>0</td>\n",
              "      <td>My friend was ALWAYS telling me about this mov...</td>\n",
              "      <td>[1, 3]</td>\n",
              "    </tr>\n",
              "    <tr>\n",
              "      <th>4</th>\n",
              "      <td>rw0400509</td>\n",
              "      <td>Dead Man on Campus (1998)</td>\n",
              "      <td>1999-01-31</td>\n",
              "      <td>0</td>\n",
              "      <td>The laughter never stops. This is because the ...</td>\n",
              "      <td>[2, 3]</td>\n",
              "    </tr>\n",
              "    <tr>\n",
              "      <th>...</th>\n",
              "      <td>...</td>\n",
              "      <td>...</td>\n",
              "      <td>...</td>\n",
              "      <td>...</td>\n",
              "      <td>...</td>\n",
              "      <td>...</td>\n",
              "    </tr>\n",
              "    <tr>\n",
              "      <th>1014995</th>\n",
              "      <td>rw0528641</td>\n",
              "      <td>The Insider (1999)</td>\n",
              "      <td>1999-12-26</td>\n",
              "      <td>0</td>\n",
              "      <td>This is an absolute magnificent movie, in fact...</td>\n",
              "      <td>[0, 0]</td>\n",
              "    </tr>\n",
              "    <tr>\n",
              "      <th>1014996</th>\n",
              "      <td>rw0528642</td>\n",
              "      <td>The Insider (1999)</td>\n",
              "      <td>2000-01-07</td>\n",
              "      <td>0</td>\n",
              "      <td>There are times that The Insider will leave yo...</td>\n",
              "      <td>[0, 0]</td>\n",
              "    </tr>\n",
              "    <tr>\n",
              "      <th>1014997</th>\n",
              "      <td>rw0528643</td>\n",
              "      <td>The Insider (1999)</td>\n",
              "      <td>2000-01-11</td>\n",
              "      <td>0</td>\n",
              "      <td>The sense of scandal and coverup is in the air...</td>\n",
              "      <td>[0, 0]</td>\n",
              "    </tr>\n",
              "    <tr>\n",
              "      <th>1014998</th>\n",
              "      <td>rw0528644</td>\n",
              "      <td>The Insider (1999)</td>\n",
              "      <td>1999-11-07</td>\n",
              "      <td>0</td>\n",
              "      <td>\"The Insider\" is the latest from \"Vegas\" and \"...</td>\n",
              "      <td>[0, 0]</td>\n",
              "    </tr>\n",
              "    <tr>\n",
              "      <th>1014999</th>\n",
              "      <td>rw0528645</td>\n",
              "      <td>The Insider (1999)</td>\n",
              "      <td>2000-01-12</td>\n",
              "      <td>0</td>\n",
              "      <td>After Heat, I was a little worried that Mann w...</td>\n",
              "      <td>[0, 0]</td>\n",
              "    </tr>\n",
              "  </tbody>\n",
              "</table>\n",
              "<p>1015000 rows × 6 columns</p>\n",
              "</div>\n",
              "      <button class=\"colab-df-convert\" onclick=\"convertToInteractive('df-fdfafdd4-5f4e-46eb-97b0-014dd1a5e579')\"\n",
              "              title=\"Convert this dataframe to an interactive table.\"\n",
              "              style=\"display:none;\">\n",
              "        \n",
              "  <svg xmlns=\"http://www.w3.org/2000/svg\" height=\"24px\"viewBox=\"0 0 24 24\"\n",
              "       width=\"24px\">\n",
              "    <path d=\"M0 0h24v24H0V0z\" fill=\"none\"/>\n",
              "    <path d=\"M18.56 5.44l.94 2.06.94-2.06 2.06-.94-2.06-.94-.94-2.06-.94 2.06-2.06.94zm-11 1L8.5 8.5l.94-2.06 2.06-.94-2.06-.94L8.5 2.5l-.94 2.06-2.06.94zm10 10l.94 2.06.94-2.06 2.06-.94-2.06-.94-.94-2.06-.94 2.06-2.06.94z\"/><path d=\"M17.41 7.96l-1.37-1.37c-.4-.4-.92-.59-1.43-.59-.52 0-1.04.2-1.43.59L10.3 9.45l-7.72 7.72c-.78.78-.78 2.05 0 2.83L4 21.41c.39.39.9.59 1.41.59.51 0 1.02-.2 1.41-.59l7.78-7.78 2.81-2.81c.8-.78.8-2.07 0-2.86zM5.41 20L4 18.59l7.72-7.72 1.47 1.35L5.41 20z\"/>\n",
              "  </svg>\n",
              "      </button>\n",
              "      \n",
              "  <style>\n",
              "    .colab-df-container {\n",
              "      display:flex;\n",
              "      flex-wrap:wrap;\n",
              "      gap: 12px;\n",
              "    }\n",
              "\n",
              "    .colab-df-convert {\n",
              "      background-color: #E8F0FE;\n",
              "      border: none;\n",
              "      border-radius: 50%;\n",
              "      cursor: pointer;\n",
              "      display: none;\n",
              "      fill: #1967D2;\n",
              "      height: 32px;\n",
              "      padding: 0 0 0 0;\n",
              "      width: 32px;\n",
              "    }\n",
              "\n",
              "    .colab-df-convert:hover {\n",
              "      background-color: #E2EBFA;\n",
              "      box-shadow: 0px 1px 2px rgba(60, 64, 67, 0.3), 0px 1px 3px 1px rgba(60, 64, 67, 0.15);\n",
              "      fill: #174EA6;\n",
              "    }\n",
              "\n",
              "    [theme=dark] .colab-df-convert {\n",
              "      background-color: #3B4455;\n",
              "      fill: #D2E3FC;\n",
              "    }\n",
              "\n",
              "    [theme=dark] .colab-df-convert:hover {\n",
              "      background-color: #434B5C;\n",
              "      box-shadow: 0px 1px 3px 1px rgba(0, 0, 0, 0.15);\n",
              "      filter: drop-shadow(0px 1px 2px rgba(0, 0, 0, 0.3));\n",
              "      fill: #FFFFFF;\n",
              "    }\n",
              "  </style>\n",
              "\n",
              "      <script>\n",
              "        const buttonEl =\n",
              "          document.querySelector('#df-fdfafdd4-5f4e-46eb-97b0-014dd1a5e579 button.colab-df-convert');\n",
              "        buttonEl.style.display =\n",
              "          google.colab.kernel.accessAllowed ? 'block' : 'none';\n",
              "\n",
              "        async function convertToInteractive(key) {\n",
              "          const element = document.querySelector('#df-fdfafdd4-5f4e-46eb-97b0-014dd1a5e579');\n",
              "          const dataTable =\n",
              "            await google.colab.kernel.invokeFunction('convertToInteractive',\n",
              "                                                     [key], {});\n",
              "          if (!dataTable) return;\n",
              "\n",
              "          const docLinkHtml = 'Like what you see? Visit the ' +\n",
              "            '<a target=\"_blank\" href=https://colab.research.google.com/notebooks/data_table.ipynb>data table notebook</a>'\n",
              "            + ' to learn more about interactive tables.';\n",
              "          element.innerHTML = '';\n",
              "          dataTable['output_type'] = 'display_data';\n",
              "          await google.colab.output.renderOutput(dataTable, element);\n",
              "          const docLink = document.createElement('div');\n",
              "          docLink.innerHTML = docLinkHtml;\n",
              "          element.appendChild(docLink);\n",
              "        }\n",
              "      </script>\n",
              "    </div>\n",
              "  </div>\n",
              "  "
            ]
          },
          "metadata": {},
          "execution_count": 22
        }
      ]
    },
    {
      "cell_type": "code",
      "source": [
        "cp /content/cleaned_files/cleaned_csv/cleaned_csv.zip /content/drive/MyDrive/cleaned_imdb_csv.zip"
      ],
      "metadata": {
        "id": "Uo8kZHZ4Iw_-"
      },
      "execution_count": 21,
      "outputs": []
    }
  ],
  "metadata": {
    "colab": {
      "collapsed_sections": [],
      "name": "imdb_cleaning.ipynb",
      "provenance": []
    },
    "kernelspec": {
      "display_name": "Python 3",
      "name": "python3"
    }
  },
  "nbformat": 4,
  "nbformat_minor": 0
}